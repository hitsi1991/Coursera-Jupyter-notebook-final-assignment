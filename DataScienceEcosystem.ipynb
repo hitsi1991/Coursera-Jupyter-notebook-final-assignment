{
 "cells": [
  {
   "cell_type": "markdown",
   "id": "97385f92-6fb0-4c89-8783-6d53a6b5f264",
   "metadata": {},
   "source": [
    "# Data Science Tools and Ecosystem"
   ]
  },
  {
   "cell_type": "markdown",
   "id": "29a88fe7-ec74-405d-85c7-3fe64140b724",
   "metadata": {},
   "source": [
    "In this notebook, Data Science Tools and Ecosystem are summarized."
   ]
  },
  {
   "cell_type": "markdown",
   "id": "b4b7de7a-1496-4d23-acff-15751e7b2258",
   "metadata": {},
   "source": [
    "**Objectives:**\n",
    "* Python\n",
    "* R\n",
    "* Julia"
   ]
  },
  {
   "cell_type": "markdown",
   "id": "5203a98a-ef6f-456e-8510-d7af5f5f7752",
   "metadata": {},
   "source": [
    "**Objectives:**\n",
    "*Python\n",
    "*R\n",
    "*SQL"
   ]
  },
  {
   "cell_type": "markdown",
   "id": "6c9fbae2-b7a8-4fe8-afea-c58021aa384a",
   "metadata": {},
   "source": [
    "Some of the populart lanmguyages that Data Scientists use are:\n",
    "1. Python\n",
    "2. R\n",
    "3. Julia"
   ]
  },
  {
   "cell_type": "markdown",
   "id": "a5059e41-e507-4469-aa6c-58dbb4d6de1d",
   "metadata": {},
   "source": [
    "some of the commonly used libraries used by Data Scientists include:\n",
    "1. Numpy\n",
    "2. Tensorflow\n",
    "3. Pandas\n"
   ]
  },
  {
   "cell_type": "markdown",
   "id": "84d440a5-8c12-452f-ad8b-c15dd173e504",
   "metadata": {},
   "source": [
    "Data Science Tools\n",
    "-------------------\n",
    "Jupyter Notebooks\n",
    "Rstudio\n",
    "Appache Zeppelin"
   ]
  },
  {
   "cell_type": "markdown",
   "id": "35b58984-b787-4e4c-a257-b8c56a16dac4",
   "metadata": {},
   "source": [
    "|Data Science Tools|\n",
    "-----------------------\n",
    "|Jupyter Notebooks|\n",
    "|Rstudio|\n",
    "|Appache Zeppelin|"
   ]
  },
  {
   "cell_type": "markdown",
   "id": "6e2e9a1c-93de-4eff-83b3-fc8adffc7788",
   "metadata": {},
   "source": [
    "### Below are a few examples of evaluating arithmetic expression in Python "
   ]
  },
  {
   "cell_type": "code",
   "execution_count": 9,
   "id": "e731594c-af8d-45ce-ae83-5f8238e58993",
   "metadata": {},
   "outputs": [
    {
     "data": {
      "text/plain": [
       "17"
      ]
     },
     "execution_count": 9,
     "metadata": {},
     "output_type": "execute_result"
    }
   ],
   "source": [
    "#This is a simple arithmetic expression to multiplyu then add integers\n",
    "(3*4)+5"
   ]
  },
  {
   "cell_type": "code",
   "execution_count": 11,
   "id": "3f9690fa-ab0e-4f50-89f6-2916fad202fe",
   "metadata": {},
   "outputs": [
    {
     "data": {
      "text/plain": [
       "3.3333333333333335"
      ]
     },
     "execution_count": 11,
     "metadata": {},
     "output_type": "execute_result"
    }
   ],
   "source": [
    "#This will convert 200 minutes to hours by dividing by 60\n",
    "200/60"
   ]
  },
  {
   "cell_type": "markdown",
   "id": "cdebd0f7-e365-4d92-b299-828210874de4",
   "metadata": {},
   "source": [
    "## Author\n",
    "Daiwei"
   ]
  },
  {
   "cell_type": "code",
   "execution_count": null,
   "id": "db176b18-4eae-424e-ad27-24abc0e826bf",
   "metadata": {},
   "outputs": [],
   "source": []
  }
 ],
 "metadata": {
  "kernelspec": {
   "display_name": "Python 3 (ipykernel)",
   "language": "python",
   "name": "python3"
  },
  "language_info": {
   "codemirror_mode": {
    "name": "ipython",
    "version": 3
   },
   "file_extension": ".py",
   "mimetype": "text/x-python",
   "name": "python",
   "nbconvert_exporter": "python",
   "pygments_lexer": "ipython3",
   "version": "3.12.4"
  }
 },
 "nbformat": 4,
 "nbformat_minor": 5
}
